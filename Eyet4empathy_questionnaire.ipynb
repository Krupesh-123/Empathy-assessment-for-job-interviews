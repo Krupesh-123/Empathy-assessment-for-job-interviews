{
  "cells": [
    {
      "cell_type": "code",
      "execution_count": null,
      "id": "71eb5c5e",
      "metadata": {
        "id": "71eb5c5e"
      },
      "outputs": [],
      "source": [
        "import pandas as pd \n",
        "import numpy as np\n",
        "import seaborn as sns \n",
        "import matplotlib.pyplot as plt \n",
        "%matplotlib inline \n",
        "sns.set_theme()\n",
        "import warnings\n",
        "warnings.filterwarnings('ignore')"
      ]
    },
    {
      "cell_type": "code",
      "execution_count": null,
      "id": "c188f1b6",
      "metadata": {
        "id": "c188f1b6"
      },
      "outputs": [],
      "source": [
        "#using latin encoding because utf-8 and utf-16 cannot recognise unidentified characters in the data and so are unable to load the data.\n",
        "df0 = pd.read_csv('Questionnaire_datasetIA.csv', encoding = 'latin-1' )\n",
        "df1 = pd.read_csv('Questionnaire_datasetIB.csv', encoding = 'latin-1')"
      ]
    },
    {
      "cell_type": "code",
      "execution_count": null,
      "id": "9efca445",
      "metadata": {
        "collapsed": true,
        "id": "9efca445"
      },
      "outputs": [],
      "source": [
        "df0.head(5)"
      ]
    },
    {
      "cell_type": "code",
      "execution_count": null,
      "id": "06a138b7",
      "metadata": {
        "collapsed": true,
        "id": "06a138b7"
      },
      "outputs": [],
      "source": [
        "df1.head(5)"
      ]
    },
    {
      "cell_type": "raw",
      "id": "cbd70398",
      "metadata": {
        "id": "cbd70398"
      },
      "source": [
        "df0 and df1 as seen above have the same features with same datatypes but \n",
        "different values so it logical to use one dataset as a train set and the other as a test set. This will also ensure the variance of the data and prevent overfitting. "
      ]
    },
    {
      "cell_type": "code",
      "execution_count": null,
      "id": "50af5db0",
      "metadata": {
        "collapsed": true,
        "id": "50af5db0"
      },
      "outputs": [],
      "source": [
        "print(df0.info())"
      ]
    },
    {
      "cell_type": "code",
      "execution_count": null,
      "id": "856a75c5",
      "metadata": {
        "collapsed": true,
        "id": "856a75c5"
      },
      "outputs": [],
      "source": [
        "print(df1.info())"
      ]
    },
    {
      "cell_type": "raw",
      "id": "91a62a34",
      "metadata": {
        "id": "91a62a34"
      },
      "source": [
        "taking df0, the questionnaire answered before the gaze experiments as the train set. "
      ]
    },
    {
      "cell_type": "markdown",
      "id": "3c18713b",
      "metadata": {
        "id": "3c18713b"
      },
      "source": [
        "#    EDA    "
      ]
    },
    {
      "cell_type": "code",
      "execution_count": null,
      "id": "3fa74781",
      "metadata": {
        "collapsed": true,
        "id": "3fa74781"
      },
      "outputs": [],
      "source": [
        "#checking for null values\n",
        "plt.figure(figsize=(4,2))\n",
        "sns.heatmap(df0.isnull(), cbar = False)\n",
        "#no null values"
      ]
    },
    {
      "cell_type": "raw",
      "id": "663aa2fd",
      "metadata": {
        "id": "663aa2fd"
      },
      "source": [
        "The following features will be dropped.\n",
        "\n",
        "---\n",
        "Participant nr - It is an index and will not be of any use for predictions.\n",
        "\n",
        "NR - Some random numbers. \n",
        "\n",
        "Created and Modified have the same values and represent the timestamp of when the data files were created and modified. Created will be dropped and modified will be engineered to extract the time specifically which potentially is useful to the assessment. \n",
        "\n",
        "The elapsed time will be converted to seconds (int)."
      ]
    },
    {
      "cell_type": "code",
      "execution_count": null,
      "id": "89822813",
      "metadata": {
        "id": "89822813"
      },
      "outputs": [],
      "source": [
        "df0.drop(['Participant nr', 'NR', 'Created'], axis = 1, inplace = True)"
      ]
    },
    {
      "cell_type": "code",
      "execution_count": null,
      "id": "1dbd5658",
      "metadata": {
        "colab": {
          "base_uri": "https://localhost:8080/"
        },
        "id": "1dbd5658",
        "outputId": "0b114bde-6e6e-43e3-e6d1-bceee198a380"
      },
      "outputs": [
        {
          "output_type": "execute_result",
          "data": {
            "text/plain": [
              "array(['Yes'], dtype=object)"
            ]
          },
          "metadata": {},
          "execution_count": 9
        }
      ],
      "source": [
        "df0['I have read and understood the information about the study and all the information in this form is explained to me and I am willing to participate'].unique()"
      ]
    },
    {
      "cell_type": "raw",
      "id": "db7bdb1e",
      "metadata": {
        "id": "db7bdb1e"
      },
      "source": [
        "This row has all values the same and will not be of use to the assessment."
      ]
    },
    {
      "cell_type": "code",
      "execution_count": null,
      "id": "075f4f58",
      "metadata": {
        "id": "075f4f58"
      },
      "outputs": [],
      "source": [
        "df0.drop('I have read and understood the information about the study and all the information in this form is explained to me and I am willing to participate', axis = 1, inplace = True)"
      ]
    },
    {
      "cell_type": "code",
      "execution_count": null,
      "id": "9d6f079c",
      "metadata": {
        "colab": {
          "base_uri": "https://localhost:8080/"
        },
        "id": "9d6f079c",
        "outputId": "fe6011ed-25a3-4ac5-ac96-c47364416d3f"
      },
      "outputs": [
        {
          "output_type": "execute_result",
          "data": {
            "text/plain": [
              "array(['Proceed'], dtype=object)"
            ]
          },
          "metadata": {},
          "execution_count": 11
        }
      ],
      "source": [
        "df0['I want to participate.'].unique()"
      ]
    },
    {
      "cell_type": "raw",
      "id": "930cde21",
      "metadata": {
        "id": "930cde21"
      },
      "source": [
        "All values here are also the same and will not be of positive to the model's assessment, it is logical to drop them. "
      ]
    },
    {
      "cell_type": "code",
      "execution_count": null,
      "id": "684cdae9",
      "metadata": {
        "id": "684cdae9"
      },
      "outputs": [],
      "source": [
        "df0.drop('I want to participate.', axis = 1, inplace = True)"
      ]
    },
    {
      "cell_type": "code",
      "execution_count": null,
      "id": "5b8c7de5",
      "metadata": {
        "colab": {
          "base_uri": "https://localhost:8080/"
        },
        "id": "5b8c7de5",
        "outputId": "0181d89b-2f29-4c87-82ed-928f30694d72"
      },
      "outputs": [
        {
          "output_type": "execute_result",
          "data": {
            "text/plain": [
              "0    15:13\n",
              "1    11:23\n",
              "2    09:17\n",
              "3    13:20\n",
              "Name: Modified, dtype: object"
            ]
          },
          "metadata": {},
          "execution_count": 13
        }
      ],
      "source": [
        "#extracting the HH:MM of the full timestamp\n",
        "df0['Modified']= (pd.to_datetime(df0['Modified'])).dt.strftime('%H:%M')\n",
        "df0['Modified'][0:4]"
      ]
    },
    {
      "cell_type": "code",
      "execution_count": null,
      "id": "1c49e794",
      "metadata": {
        "id": "1c49e794"
      },
      "outputs": [],
      "source": [
        "#converting the elapsed time to seconds\n",
        "def sec_calc(time):\n",
        "    time = time.split(' ')\n",
        "    sec_time = int(time[0])*60 + int(time[2])\n",
        "    return sec_time \n",
        "df0['Elapsed'] = df0['Elapsed time'].apply(sec_calc)\n",
        "df0.drop('Elapsed time', axis = 1, inplace = True)\n",
        "df1['Elapsed'] = df1['Elapsed time'].apply(sec_calc)\n",
        "df1.drop('Elapsed time', axis = 1, inplace = True)"
      ]
    },
    {
      "cell_type": "code",
      "execution_count": null,
      "id": "80e1aded",
      "metadata": {
        "colab": {
          "base_uri": "https://localhost:8080/",
          "height": 560
        },
        "id": "80e1aded",
        "outputId": "c5495ceb-7081-4f4f-df88-442438775657"
      },
      "outputs": [
        {
          "output_type": "execute_result",
          "data": {
            "text/plain": [
              "  Modified  \\\n",
              "0    15:13   \n",
              "1    11:23   \n",
              "2    09:17   \n",
              "3    13:20   \n",
              "4    14:53   \n",
              "\n",
              "   I sometimes find it difficult to see things from the other guys point of view.  \\\n",
              "0                                                  3                                   \n",
              "1                                                  3                                   \n",
              "2                                                  2                                   \n",
              "3                                                  2                                   \n",
              "4                                                  3                                   \n",
              "\n",
              "   I am usually objective when I watch a film or play, and I dont often get completely caught up in it.  \\\n",
              "0                                                  3                                                       \n",
              "1                                                  3                                                       \n",
              "2                                                  2                                                       \n",
              "3                                                  3                                                       \n",
              "4                                                  3                                                       \n",
              "\n",
              "   I try to look at everybodys side of a disagreement before I make a decision.  \\\n",
              "0                                                  4                               \n",
              "1                                                  4                               \n",
              "2                                                  3                               \n",
              "3                                                  4                               \n",
              "4                                                  4                               \n",
              "\n",
              "   I sometimes try to understand my friends better by imagining how things look from their perspective.  \\\n",
              "0                                                  4                                                      \n",
              "1                                                  4                                                      \n",
              "2                                                  4                                                      \n",
              "3                                                  3                                                      \n",
              "4                                                  4                                                      \n",
              "\n",
              "   When I am upset at someone, I usually try to put myself in his shoes for a while.  \\\n",
              "0                                                  3                                    \n",
              "1                                                  4                                    \n",
              "2                                                  3                                    \n",
              "3                                                  2                                    \n",
              "4                                                  3                                    \n",
              "\n",
              "   Before criticising somebody, I try to imagine how I would feel if I was in their place.  \\\n",
              "0                                                  4                                         \n",
              "1                                                  3                                         \n",
              "2                                                  3                                         \n",
              "3                                                  4                                         \n",
              "4                                                  4                                         \n",
              "\n",
              "   I often get emotionally involved with my friends problems.  \\\n",
              "0                                                  3             \n",
              "1                                                  3             \n",
              "2                                                  3             \n",
              "3                                                  4             \n",
              "4                                                  4             \n",
              "\n",
              "   I am inclined to get nervous when others around me seem to be nervous.  \\\n",
              "0                                                  3                        \n",
              "1                                                  2                        \n",
              "2                                                  3                        \n",
              "3                                                  4                        \n",
              "4                                                  1                        \n",
              "\n",
              "   People I am with have a strong influence on my mood.  ...  \\\n",
              "0                                                  2     ...   \n",
              "1                                                  3     ...   \n",
              "2                                                  3     ...   \n",
              "3                                                  3     ...   \n",
              "4                                                  3     ...   \n",
              "\n",
              "   If someone is suffering from stutter, I prefer speaking rather than texting.  \\\n",
              "0                                                  1                              \n",
              "1                                                  2                              \n",
              "2                                                  3                              \n",
              "3                                                  2                              \n",
              "4                                                  1                              \n",
              "\n",
              "   I try to be patient when people speak with me very slowly.  \\\n",
              "0                                                  4            \n",
              "1                                                  4            \n",
              "2                                                  3            \n",
              "3                                                  3            \n",
              "4                                                  4            \n",
              "\n",
              "   In a situation, when there are handicapped students in a classroom, the pace of the class should be adapted to the handicapped student.  \\\n",
              "0                                                  4                                                                                         \n",
              "1                                                  3                                                                                         \n",
              "2                                                  3                                                                                         \n",
              "3                                                  4                                                                                         \n",
              "4                                                  2                                                                                         \n",
              "\n",
              "   In a situation, when there are only one handicapped student in a classroom, the pace of the class should be adapted to him/her independently of how many students are in the class.  \\\n",
              "0                                                  4                                                                                                                                     \n",
              "1                                                  3                                                                                                                                     \n",
              "2                                                  3                                                                                                                                     \n",
              "3                                                  4                                                                                                                                     \n",
              "4                                                  1                                                                                                                                     \n",
              "\n",
              "   I feel impatient when people communicate slowly, so I complete other peoples sentences to make the communication more efficient.  \\\n",
              "0                                                  1                                                                                   \n",
              "1                                                  4                                                                                   \n",
              "2                                                  3                                                                                   \n",
              "3                                                  2                                                                                   \n",
              "4                                                  4                                                                                   \n",
              "\n",
              "   I believe that the handicapped students should catch the pace of the group in a classroom to not delay the progress of other students.  \\\n",
              "0                                                  3                                                                                        \n",
              "1                                                  2                                                                                        \n",
              "2                                                  3                                                                                        \n",
              "3                                                  4                                                                                        \n",
              "4                                                  4                                                                                        \n",
              "\n",
              "   I feel left out (or excluded) when I cannot participate in a conversation.  \\\n",
              "0                                                  4                            \n",
              "1                                                  2                            \n",
              "2                                                  3                            \n",
              "3                                                  2                            \n",
              "4                                                  4                            \n",
              "\n",
              "   Total Score extended  Total Score original  Elapsed  \n",
              "0                   134                   108      305  \n",
              "1                   133                   105      355  \n",
              "2                   116                    81      409  \n",
              "3                   114                    96      519  \n",
              "4                   138                   106      447  \n",
              "\n",
              "[5 rows x 44 columns]"
            ],
            "text/html": [
              "\n",
              "  <div id=\"df-65b598fa-6c86-42b2-971f-85166046ee99\">\n",
              "    <div class=\"colab-df-container\">\n",
              "      <div>\n",
              "<style scoped>\n",
              "    .dataframe tbody tr th:only-of-type {\n",
              "        vertical-align: middle;\n",
              "    }\n",
              "\n",
              "    .dataframe tbody tr th {\n",
              "        vertical-align: top;\n",
              "    }\n",
              "\n",
              "    .dataframe thead th {\n",
              "        text-align: right;\n",
              "    }\n",
              "</style>\n",
              "<table border=\"1\" class=\"dataframe\">\n",
              "  <thead>\n",
              "    <tr style=\"text-align: right;\">\n",
              "      <th></th>\n",
              "      <th>Modified</th>\n",
              "      <th>I sometimes find it difficult to see things from the other guys point of view.</th>\n",
              "      <th>I am usually objective when I watch a film or play, and I dont often get completely caught up in it.</th>\n",
              "      <th>I try to look at everybodys side of a disagreement before I make a decision.</th>\n",
              "      <th>I sometimes try to understand my friends better by imagining how things look from their perspective.</th>\n",
              "      <th>When I am upset at someone, I usually try to put myself in his shoes for a while.</th>\n",
              "      <th>Before criticising somebody, I try to imagine how I would feel if I was in their place.</th>\n",
              "      <th>I often get emotionally involved with my friends problems.</th>\n",
              "      <th>I am inclined to get nervous when others around me seem to be nervous.</th>\n",
              "      <th>People I am with have a strong influence on my mood.</th>\n",
              "      <th>...</th>\n",
              "      <th>If someone is suffering from stutter, I prefer speaking rather than texting.</th>\n",
              "      <th>I try to be patient when people speak with me very slowly.</th>\n",
              "      <th>In a situation, when there are handicapped students in a classroom, the pace of the class should be adapted to the handicapped student.</th>\n",
              "      <th>In a situation, when there are only one handicapped student in a classroom, the pace of the class should be adapted to him/her independently of how many students are in the class.</th>\n",
              "      <th>I feel impatient when people communicate slowly, so I complete other peoples sentences to make the communication more efficient.</th>\n",
              "      <th>I believe that the handicapped students should catch the pace of the group in a classroom to not delay the progress of other students.</th>\n",
              "      <th>I feel left out (or excluded) when I cannot participate in a conversation.</th>\n",
              "      <th>Total Score extended</th>\n",
              "      <th>Total Score original</th>\n",
              "      <th>Elapsed</th>\n",
              "    </tr>\n",
              "  </thead>\n",
              "  <tbody>\n",
              "    <tr>\n",
              "      <th>0</th>\n",
              "      <td>15:13</td>\n",
              "      <td>3</td>\n",
              "      <td>3</td>\n",
              "      <td>4</td>\n",
              "      <td>4</td>\n",
              "      <td>3</td>\n",
              "      <td>4</td>\n",
              "      <td>3</td>\n",
              "      <td>3</td>\n",
              "      <td>2</td>\n",
              "      <td>...</td>\n",
              "      <td>1</td>\n",
              "      <td>4</td>\n",
              "      <td>4</td>\n",
              "      <td>4</td>\n",
              "      <td>1</td>\n",
              "      <td>3</td>\n",
              "      <td>4</td>\n",
              "      <td>134</td>\n",
              "      <td>108</td>\n",
              "      <td>305</td>\n",
              "    </tr>\n",
              "    <tr>\n",
              "      <th>1</th>\n",
              "      <td>11:23</td>\n",
              "      <td>3</td>\n",
              "      <td>3</td>\n",
              "      <td>4</td>\n",
              "      <td>4</td>\n",
              "      <td>4</td>\n",
              "      <td>3</td>\n",
              "      <td>3</td>\n",
              "      <td>2</td>\n",
              "      <td>3</td>\n",
              "      <td>...</td>\n",
              "      <td>2</td>\n",
              "      <td>4</td>\n",
              "      <td>3</td>\n",
              "      <td>3</td>\n",
              "      <td>4</td>\n",
              "      <td>2</td>\n",
              "      <td>2</td>\n",
              "      <td>133</td>\n",
              "      <td>105</td>\n",
              "      <td>355</td>\n",
              "    </tr>\n",
              "    <tr>\n",
              "      <th>2</th>\n",
              "      <td>09:17</td>\n",
              "      <td>2</td>\n",
              "      <td>2</td>\n",
              "      <td>3</td>\n",
              "      <td>4</td>\n",
              "      <td>3</td>\n",
              "      <td>3</td>\n",
              "      <td>3</td>\n",
              "      <td>3</td>\n",
              "      <td>3</td>\n",
              "      <td>...</td>\n",
              "      <td>3</td>\n",
              "      <td>3</td>\n",
              "      <td>3</td>\n",
              "      <td>3</td>\n",
              "      <td>3</td>\n",
              "      <td>3</td>\n",
              "      <td>3</td>\n",
              "      <td>116</td>\n",
              "      <td>81</td>\n",
              "      <td>409</td>\n",
              "    </tr>\n",
              "    <tr>\n",
              "      <th>3</th>\n",
              "      <td>13:20</td>\n",
              "      <td>2</td>\n",
              "      <td>3</td>\n",
              "      <td>4</td>\n",
              "      <td>3</td>\n",
              "      <td>2</td>\n",
              "      <td>4</td>\n",
              "      <td>4</td>\n",
              "      <td>4</td>\n",
              "      <td>3</td>\n",
              "      <td>...</td>\n",
              "      <td>2</td>\n",
              "      <td>3</td>\n",
              "      <td>4</td>\n",
              "      <td>4</td>\n",
              "      <td>2</td>\n",
              "      <td>4</td>\n",
              "      <td>2</td>\n",
              "      <td>114</td>\n",
              "      <td>96</td>\n",
              "      <td>519</td>\n",
              "    </tr>\n",
              "    <tr>\n",
              "      <th>4</th>\n",
              "      <td>14:53</td>\n",
              "      <td>3</td>\n",
              "      <td>3</td>\n",
              "      <td>4</td>\n",
              "      <td>4</td>\n",
              "      <td>3</td>\n",
              "      <td>4</td>\n",
              "      <td>4</td>\n",
              "      <td>1</td>\n",
              "      <td>3</td>\n",
              "      <td>...</td>\n",
              "      <td>1</td>\n",
              "      <td>4</td>\n",
              "      <td>2</td>\n",
              "      <td>1</td>\n",
              "      <td>4</td>\n",
              "      <td>4</td>\n",
              "      <td>4</td>\n",
              "      <td>138</td>\n",
              "      <td>106</td>\n",
              "      <td>447</td>\n",
              "    </tr>\n",
              "  </tbody>\n",
              "</table>\n",
              "<p>5 rows × 44 columns</p>\n",
              "</div>\n",
              "      <button class=\"colab-df-convert\" onclick=\"convertToInteractive('df-65b598fa-6c86-42b2-971f-85166046ee99')\"\n",
              "              title=\"Convert this dataframe to an interactive table.\"\n",
              "              style=\"display:none;\">\n",
              "        \n",
              "  <svg xmlns=\"http://www.w3.org/2000/svg\" height=\"24px\"viewBox=\"0 0 24 24\"\n",
              "       width=\"24px\">\n",
              "    <path d=\"M0 0h24v24H0V0z\" fill=\"none\"/>\n",
              "    <path d=\"M18.56 5.44l.94 2.06.94-2.06 2.06-.94-2.06-.94-.94-2.06-.94 2.06-2.06.94zm-11 1L8.5 8.5l.94-2.06 2.06-.94-2.06-.94L8.5 2.5l-.94 2.06-2.06.94zm10 10l.94 2.06.94-2.06 2.06-.94-2.06-.94-.94-2.06-.94 2.06-2.06.94z\"/><path d=\"M17.41 7.96l-1.37-1.37c-.4-.4-.92-.59-1.43-.59-.52 0-1.04.2-1.43.59L10.3 9.45l-7.72 7.72c-.78.78-.78 2.05 0 2.83L4 21.41c.39.39.9.59 1.41.59.51 0 1.02-.2 1.41-.59l7.78-7.78 2.81-2.81c.8-.78.8-2.07 0-2.86zM5.41 20L4 18.59l7.72-7.72 1.47 1.35L5.41 20z\"/>\n",
              "  </svg>\n",
              "      </button>\n",
              "      \n",
              "  <style>\n",
              "    .colab-df-container {\n",
              "      display:flex;\n",
              "      flex-wrap:wrap;\n",
              "      gap: 12px;\n",
              "    }\n",
              "\n",
              "    .colab-df-convert {\n",
              "      background-color: #E8F0FE;\n",
              "      border: none;\n",
              "      border-radius: 50%;\n",
              "      cursor: pointer;\n",
              "      display: none;\n",
              "      fill: #1967D2;\n",
              "      height: 32px;\n",
              "      padding: 0 0 0 0;\n",
              "      width: 32px;\n",
              "    }\n",
              "\n",
              "    .colab-df-convert:hover {\n",
              "      background-color: #E2EBFA;\n",
              "      box-shadow: 0px 1px 2px rgba(60, 64, 67, 0.3), 0px 1px 3px 1px rgba(60, 64, 67, 0.15);\n",
              "      fill: #174EA6;\n",
              "    }\n",
              "\n",
              "    [theme=dark] .colab-df-convert {\n",
              "      background-color: #3B4455;\n",
              "      fill: #D2E3FC;\n",
              "    }\n",
              "\n",
              "    [theme=dark] .colab-df-convert:hover {\n",
              "      background-color: #434B5C;\n",
              "      box-shadow: 0px 1px 3px 1px rgba(0, 0, 0, 0.15);\n",
              "      filter: drop-shadow(0px 1px 2px rgba(0, 0, 0, 0.3));\n",
              "      fill: #FFFFFF;\n",
              "    }\n",
              "  </style>\n",
              "\n",
              "      <script>\n",
              "        const buttonEl =\n",
              "          document.querySelector('#df-65b598fa-6c86-42b2-971f-85166046ee99 button.colab-df-convert');\n",
              "        buttonEl.style.display =\n",
              "          google.colab.kernel.accessAllowed ? 'block' : 'none';\n",
              "\n",
              "        async function convertToInteractive(key) {\n",
              "          const element = document.querySelector('#df-65b598fa-6c86-42b2-971f-85166046ee99');\n",
              "          const dataTable =\n",
              "            await google.colab.kernel.invokeFunction('convertToInteractive',\n",
              "                                                     [key], {});\n",
              "          if (!dataTable) return;\n",
              "\n",
              "          const docLinkHtml = 'Like what you see? Visit the ' +\n",
              "            '<a target=\"_blank\" href=https://colab.research.google.com/notebooks/data_table.ipynb>data table notebook</a>'\n",
              "            + ' to learn more about interactive tables.';\n",
              "          element.innerHTML = '';\n",
              "          dataTable['output_type'] = 'display_data';\n",
              "          await google.colab.output.renderOutput(dataTable, element);\n",
              "          const docLink = document.createElement('div');\n",
              "          docLink.innerHTML = docLinkHtml;\n",
              "          element.appendChild(docLink);\n",
              "        }\n",
              "      </script>\n",
              "    </div>\n",
              "  </div>\n",
              "  "
            ]
          },
          "metadata": {},
          "execution_count": 15
        }
      ],
      "source": [
        "df0.head(5)"
      ]
    },
    {
      "cell_type": "code",
      "execution_count": null,
      "id": "2e3d1f41",
      "metadata": {
        "colab": {
          "base_uri": "https://localhost:8080/",
          "height": 388
        },
        "id": "2e3d1f41",
        "outputId": "822e5df5-3bf2-47dd-d77b-ed948de22af9"
      },
      "outputs": [
        {
          "output_type": "execute_result",
          "data": {
            "text/plain": [
              "<Axes: >"
            ]
          },
          "metadata": {},
          "execution_count": 16
        },
        {
          "output_type": "display_data",
          "data": {
            "text/plain": [
              "<Figure size 400x200 with 2 Axes>"
            ],
            "image/png": "[encoded data removed]"
          },
          "metadata": {}
        }
      ],
      "source": [
        "#checking the correlatio\n",
        "plt.figure(figsize= (4,2))\n",
        "sns.heatmap(df0.iloc[:, 41:].corr(), annot = True)"
      ]
    },
    {
      "cell_type": "markdown",
      "id": "4af61563",
      "metadata": {
        "id": "4af61563"
      },
      "source": [
        "The correlation between time elapsed and the total score original is very low and that between time elapsed and total score extended way lower, keeping it for training could be more detrimental than beneficial. "
      ]
    },
    {
      "cell_type": "raw",
      "id": "867c0b4e",
      "metadata": {
        "id": "867c0b4e"
      },
      "source": [
        "The rest of the features are numerical and range from 1 to 4.The empathy scores are based on assessment of this responses.\n",
        "The total score extended seems to be proportional with the time elapsed.  \n",
        "There are many features and exploring each one at a time to find the correlation with the target would be time consuming so feature selection will be performed. "
      ]
    },
    {
      "cell_type": "raw",
      "id": "68ad364e",
      "metadata": {
        "id": "68ad364e"
      },
      "source": [
        "    FEATURE SELECTION USING FILTER METHOD (SUPERVISED TECHNIQUE)"
      ]
    },
    {
      "cell_type": "code",
      "execution_count": null,
      "id": "b27dee46",
      "metadata": {
        "collapsed": true,
        "id": "b27dee46"
      },
      "outputs": [],
      "source": [
        "X = df0.drop(['Total Score original','Total Score extended', 'Modified'], axis = 1)\n",
        "y_train = df0['Total Score original']"
      ]
    },
    {
      "cell_type": "raw",
      "id": "db4441cb",
      "metadata": {
        "id": "db4441cb"
      },
      "source": [
        "FEATURE SELECTION USING MUTUAL INFORMATION REGRESSOR"
      ]
    },
    {
      "cell_type": "code",
      "execution_count": null,
      "id": "0e2b8a84",
      "metadata": {
        "colab": {
          "base_uri": "https://localhost:8080/"
        },
        "id": "0e2b8a84",
        "outputId": "474f1cee-ed03-4cd0-8145-b83cca231e79"
      },
      "outputs": [
        {
          "output_type": "execute_result",
          "data": {
            "text/plain": [
              "(60, 15)"
            ]
          },
          "metadata": {},
          "execution_count": 19
        }
      ],
      "source": [
        "from sklearn. feature_selection import SelectKBest\n",
        "from sklearn.feature_selection import f_classif\n",
        "# Using anova function to select the 15 best features\n",
        "selector =SelectKBest(f_classif, k=15)\n",
        "X_reduced = selector.fit_transform(X, y_train)\n",
        "X_reduced.shape"
      ]
    },
    {
      "cell_type": "code",
      "execution_count": null,
      "id": "a32c3c6f",
      "metadata": {
        "collapsed": true,
        "id": "a32c3c6f"
      },
      "outputs": [],
      "source": [
        "X_reduced"
      ]
    },
    {
      "cell_type": "code",
      "execution_count": null,
      "id": "c374af21",
      "metadata": {
        "collapsed": true,
        "id": "c374af21"
      },
      "outputs": [],
      "source": [
        "cols = selector.get_feature_names_out()\n",
        "cols"
      ]
    },
    {
      "cell_type": "code",
      "execution_count": null,
      "id": "f5d1779f",
      "metadata": {
        "collapsed": true,
        "id": "f5d1779f"
      },
      "outputs": [],
      "source": [
        "#Visualizing the new feature data\n",
        "X_train = pd.DataFrame(X_reduced, columns= cols)\n",
        "X_train.head(5)"
      ]
    },
    {
      "cell_type": "markdown",
      "id": "5f5ea70b",
      "metadata": {
        "id": "5f5ea70b"
      },
      "source": [
        "## Feature Selection for the test set data (df1)"
      ]
    },
    {
      "cell_type": "raw",
      "id": "855381f1",
      "metadata": {
        "id": "855381f1"
      },
      "source": [
        "The features selected in the training dataset are already nominal so there would not be need for any engineering on the test set."
      ]
    },
    {
      "cell_type": "code",
      "execution_count": null,
      "id": "896ffc0a",
      "metadata": {
        "colab": {
          "base_uri": "https://localhost:8080/",
          "height": 478
        },
        "id": "896ffc0a",
        "outputId": "eafdc814-cba0-4268-f02f-b1f92ec345c7"
      },
      "outputs": [
        {
          "output_type": "execute_result",
          "data": {
            "text/plain": [
              "   I sometimes try to understand my friends better by imagining how things look from their perspective.  \\\n",
              "0                                                  4                                                      \n",
              "1                                                  4                                                      \n",
              "2                                                  4                                                      \n",
              "3                                                  3                                                      \n",
              "4                                                  3                                                      \n",
              "\n",
              "   When I am upset at someone, I usually try to put myself in his shoes for a while.  \\\n",
              "0                                                  4                                    \n",
              "1                                                  4                                    \n",
              "2                                                  4                                    \n",
              "3                                                  2                                    \n",
              "4                                                  3                                    \n",
              "\n",
              "   I often get emotionally involved with my friends problems.  \\\n",
              "0                                                  4             \n",
              "1                                                  3             \n",
              "2                                                  4             \n",
              "3                                                  3             \n",
              "4                                                  4             \n",
              "\n",
              "   I am happy when I am with a cheerful group and sad when the others are glum.  \\\n",
              "0                                                  4                              \n",
              "1                                                  3                              \n",
              "2                                                  4                              \n",
              "3                                                  3                              \n",
              "4                                                  3                              \n",
              "\n",
              "   I can easily tell if someone else wants to enter a conversation.  \\\n",
              "0                                                  3                  \n",
              "1                                                  3                  \n",
              "2                                                  3                  \n",
              "3                                                  4                  \n",
              "4                                                  4                  \n",
              "\n",
              "   I can pick up quickly if someone says one thing but means another.  \\\n",
              "0                                                  3                    \n",
              "1                                                  3                    \n",
              "2                                                  3                    \n",
              "3                                                  3                    \n",
              "4                                                  4                    \n",
              "\n",
              "   I find it easy to put myself in somebody elses shoes.  \\\n",
              "0                                                  4       \n",
              "1                                                  3       \n",
              "2                                                  4       \n",
              "3                                                  3       \n",
              "4                                                  3       \n",
              "\n",
              "   I am quick to spot when someone in a group is feeling awkward or uncomfortable.  \\\n",
              "0                                                  4                                 \n",
              "1                                                  3                                 \n",
              "2                                                  3                                 \n",
              "3                                                  4                                 \n",
              "4                                                  4                                 \n",
              "\n",
              "   Other people tell me I am good at understanding how they are feeling and what they are thinking.  \\\n",
              "0                                                  4                                                  \n",
              "1                                                  4                                                  \n",
              "2                                                  3                                                  \n",
              "3                                                  4                                                  \n",
              "4                                                  4                                                  \n",
              "\n",
              "   I can easily tell if someone else is interested or bored with what I am saying.  \\\n",
              "0                                                  4                                 \n",
              "1                                                  3                                 \n",
              "2                                                  3                                 \n",
              "3                                                  3                                 \n",
              "4                                                  4                                 \n",
              "\n",
              "   Friends talk to me about their problems as they say that I am very understanding.  \\\n",
              "0                                                  4                                   \n",
              "1                                                  4                                   \n",
              "2                                                  3                                   \n",
              "3                                                  4                                   \n",
              "4                                                  4                                   \n",
              "\n",
              "   I can tell if someone is masking their true emotion.  \\\n",
              "0                                                  3      \n",
              "1                                                  3      \n",
              "2                                                  2      \n",
              "3                                                  3      \n",
              "4                                                  4      \n",
              "\n",
              "   I am good at predicting what someone will do.  \\\n",
              "0                                              3   \n",
              "1                                              3   \n",
              "2                                              2   \n",
              "3                                              3   \n",
              "4                                              3   \n",
              "\n",
              "   Before I do something I try to consider how my friends will react to it.  \\\n",
              "0                                                  4                          \n",
              "1                                                  3                          \n",
              "2                                                  3                          \n",
              "3                                                  4                          \n",
              "4                                                  3                          \n",
              "\n",
              "   I try to be patient when people speak with me very slowly.  \n",
              "0                                                  4           \n",
              "1                                                  4           \n",
              "2                                                  3           \n",
              "3                                                  3           \n",
              "4                                                  4           "
            ],
            "text/html": [
              "\n",
              "  <div id=\"df-879528f8-d440-4fd2-b0a8-b252b302b967\">\n",
              "    <div class=\"colab-df-container\">\n",
              "      <div>\n",
              "<style scoped>\n",
              "    .dataframe tbody tr th:only-of-type {\n",
              "        vertical-align: middle;\n",
              "    }\n",
              "\n",
              "    .dataframe tbody tr th {\n",
              "        vertical-align: top;\n",
              "    }\n",
              "\n",
              "    .dataframe thead th {\n",
              "        text-align: right;\n",
              "    }\n",
              "</style>\n",
              "<table border=\"1\" class=\"dataframe\">\n",
              "  <thead>\n",
              "    <tr style=\"text-align: right;\">\n",
              "      <th></th>\n",
              "      <th>I sometimes try to understand my friends better by imagining how things look from their perspective.</th>\n",
              "      <th>When I am upset at someone, I usually try to put myself in his shoes for a while.</th>\n",
              "      <th>I often get emotionally involved with my friends problems.</th>\n",
              "      <th>I am happy when I am with a cheerful group and sad when the others are glum.</th>\n",
              "      <th>I can easily tell if someone else wants to enter a conversation.</th>\n",
              "      <th>I can pick up quickly if someone says one thing but means another.</th>\n",
              "      <th>I find it easy to put myself in somebody elses shoes.</th>\n",
              "      <th>I am quick to spot when someone in a group is feeling awkward or uncomfortable.</th>\n",
              "      <th>Other people tell me I am good at understanding how they are feeling and what they are thinking.</th>\n",
              "      <th>I can easily tell if someone else is interested or bored with what I am saying.</th>\n",
              "      <th>Friends talk to me about their problems as they say that I am very understanding.</th>\n",
              "      <th>I can tell if someone is masking their true emotion.</th>\n",
              "      <th>I am good at predicting what someone will do.</th>\n",
              "      <th>Before I do something I try to consider how my friends will react to it.</th>\n",
              "      <th>I try to be patient when people speak with me very slowly.</th>\n",
              "    </tr>\n",
              "  </thead>\n",
              "  <tbody>\n",
              "    <tr>\n",
              "      <th>0</th>\n",
              "      <td>4</td>\n",
              "      <td>4</td>\n",
              "      <td>4</td>\n",
              "      <td>4</td>\n",
              "      <td>3</td>\n",
              "      <td>3</td>\n",
              "      <td>4</td>\n",
              "      <td>4</td>\n",
              "      <td>4</td>\n",
              "      <td>4</td>\n",
              "      <td>4</td>\n",
              "      <td>3</td>\n",
              "      <td>3</td>\n",
              "      <td>4</td>\n",
              "      <td>4</td>\n",
              "    </tr>\n",
              "    <tr>\n",
              "      <th>1</th>\n",
              "      <td>4</td>\n",
              "      <td>4</td>\n",
              "      <td>3</td>\n",
              "      <td>3</td>\n",
              "      <td>3</td>\n",
              "      <td>3</td>\n",
              "      <td>3</td>\n",
              "      <td>3</td>\n",
              "      <td>4</td>\n",
              "      <td>3</td>\n",
              "      <td>4</td>\n",
              "      <td>3</td>\n",
              "      <td>3</td>\n",
              "      <td>3</td>\n",
              "      <td>4</td>\n",
              "    </tr>\n",
              "    <tr>\n",
              "      <th>2</th>\n",
              "      <td>4</td>\n",
              "      <td>4</td>\n",
              "      <td>4</td>\n",
              "      <td>4</td>\n",
              "      <td>3</td>\n",
              "      <td>3</td>\n",
              "      <td>4</td>\n",
              "      <td>3</td>\n",
              "      <td>3</td>\n",
              "      <td>3</td>\n",
              "      <td>3</td>\n",
              "      <td>2</td>\n",
              "      <td>2</td>\n",
              "      <td>3</td>\n",
              "      <td>3</td>\n",
              "    </tr>\n",
              "    <tr>\n",
              "      <th>3</th>\n",
              "      <td>3</td>\n",
              "      <td>2</td>\n",
              "      <td>3</td>\n",
              "      <td>3</td>\n",
              "      <td>4</td>\n",
              "      <td>3</td>\n",
              "      <td>3</td>\n",
              "      <td>4</td>\n",
              "      <td>4</td>\n",
              "      <td>3</td>\n",
              "      <td>4</td>\n",
              "      <td>3</td>\n",
              "      <td>3</td>\n",
              "      <td>4</td>\n",
              "      <td>3</td>\n",
              "    </tr>\n",
              "    <tr>\n",
              "      <th>4</th>\n",
              "      <td>3</td>\n",
              "      <td>3</td>\n",
              "      <td>4</td>\n",
              "      <td>3</td>\n",
              "      <td>4</td>\n",
              "      <td>4</td>\n",
              "      <td>3</td>\n",
              "      <td>4</td>\n",
              "      <td>4</td>\n",
              "      <td>4</td>\n",
              "      <td>4</td>\n",
              "      <td>4</td>\n",
              "      <td>3</td>\n",
              "      <td>3</td>\n",
              "      <td>4</td>\n",
              "    </tr>\n",
              "  </tbody>\n",
              "</table>\n",
              "</div>\n",
              "      <button class=\"colab-df-convert\" onclick=\"convertToInteractive('df-879528f8-d440-4fd2-b0a8-b252b302b967')\"\n",
              "              title=\"Convert this dataframe to an interactive table.\"\n",
              "              style=\"display:none;\">\n",
              "        \n",
              "  <svg xmlns=\"http://www.w3.org/2000/svg\" height=\"24px\"viewBox=\"0 0 24 24\"\n",
              "       width=\"24px\">\n",
              "    <path d=\"M0 0h24v24H0V0z\" fill=\"none\"/>\n",
              "    <path d=\"M18.56 5.44l.94 2.06.94-2.06 2.06-.94-2.06-.94-.94-2.06-.94 2.06-2.06.94zm-11 1L8.5 8.5l.94-2.06 2.06-.94-2.06-.94L8.5 2.5l-.94 2.06-2.06.94zm10 10l.94 2.06.94-2.06 2.06-.94-2.06-.94-.94-2.06-.94 2.06-2.06.94z\"/><path d=\"M17.41 7.96l-1.37-1.37c-.4-.4-.92-.59-1.43-.59-.52 0-1.04.2-1.43.59L10.3 9.45l-7.72 7.72c-.78.78-.78 2.05 0 2.83L4 21.41c.39.39.9.59 1.41.59.51 0 1.02-.2 1.41-.59l7.78-7.78 2.81-2.81c.8-.78.8-2.07 0-2.86zM5.41 20L4 18.59l7.72-7.72 1.47 1.35L5.41 20z\"/>\n",
              "  </svg>\n",
              "      </button>\n",
              "      \n",
              "  <style>\n",
              "    .colab-df-container {\n",
              "      display:flex;\n",
              "      flex-wrap:wrap;\n",
              "      gap: 12px;\n",
              "    }\n",
              "\n",
              "    .colab-df-convert {\n",
              "      background-color: #E8F0FE;\n",
              "      border: none;\n",
              "      border-radius: 50%;\n",
              "      cursor: pointer;\n",
              "      display: none;\n",
              "      fill: #1967D2;\n",
              "      height: 32px;\n",
              "      padding: 0 0 0 0;\n",
              "      width: 32px;\n",
              "    }\n",
              "\n",
              "    .colab-df-convert:hover {\n",
              "      background-color: #E2EBFA;\n",
              "      box-shadow: 0px 1px 2px rgba(60, 64, 67, 0.3), 0px 1px 3px 1px rgba(60, 64, 67, 0.15);\n",
              "      fill: #174EA6;\n",
              "    }\n",
              "\n",
              "    [theme=dark] .colab-df-convert {\n",
              "      background-color: #3B4455;\n",
              "      fill: #D2E3FC;\n",
              "    }\n",
              "\n",
              "    [theme=dark] .colab-df-convert:hover {\n",
              "      background-color: #434B5C;\n",
              "      box-shadow: 0px 1px 3px 1px rgba(0, 0, 0, 0.15);\n",
              "      filter: drop-shadow(0px 1px 2px rgba(0, 0, 0, 0.3));\n",
              "      fill: #FFFFFF;\n",
              "    }\n",
              "  </style>\n",
              "\n",
              "      <script>\n",
              "        const buttonEl =\n",
              "          document.querySelector('#df-879528f8-d440-4fd2-b0a8-b252b302b967 button.colab-df-convert');\n",
              "        buttonEl.style.display =\n",
              "          google.colab.kernel.accessAllowed ? 'block' : 'none';\n",
              "\n",
              "        async function convertToInteractive(key) {\n",
              "          const element = document.querySelector('#df-879528f8-d440-4fd2-b0a8-b252b302b967');\n",
              "          const dataTable =\n",
              "            await google.colab.kernel.invokeFunction('convertToInteractive',\n",
              "                                                     [key], {});\n",
              "          if (!dataTable) return;\n",
              "\n",
              "          const docLinkHtml = 'Like what you see? Visit the ' +\n",
              "            '<a target=\"_blank\" href=https://colab.research.google.com/notebooks/data_table.ipynb>data table notebook</a>'\n",
              "            + ' to learn more about interactive tables.';\n",
              "          element.innerHTML = '';\n",
              "          dataTable['output_type'] = 'display_data';\n",
              "          await google.colab.output.renderOutput(dataTable, element);\n",
              "          const docLink = document.createElement('div');\n",
              "          docLink.innerHTML = docLinkHtml;\n",
              "          element.appendChild(docLink);\n",
              "        }\n",
              "      </script>\n",
              "    </div>\n",
              "  </div>\n",
              "  "
            ]
          },
          "metadata": {},
          "execution_count": 23
        }
      ],
      "source": [
        "y_test = df1['Total Score original']\n",
        "X_test = df1[cols]\n",
        "X_test.head(5)"
      ]
    },
    {
      "cell_type": "code",
      "execution_count": null,
      "id": "950e34aa",
      "metadata": {
        "colab": {
          "base_uri": "https://localhost:8080/"
        },
        "id": "950e34aa",
        "outputId": "55176b05-cef5-4e2e-de23-4739327369fa"
      },
      "outputs": [
        {
          "output_type": "stream",
          "name": "stdout",
          "text": [
            "MAE:  4.266666666666667\n",
            "RMSE:  5.406785859763019\n",
            "Explained Variance Score: 0.9120671264639582\n",
            "Feature Coefficients: {'I sometimes try to understand my friends better by imagining how things look from their perspective.': 1.9117586817113668, 'When I am upset at someone, I usually try to \\x91put myself in his shoes for a while.': 0.9398944816385805, 'I often get emotionally involved with my friends\\x92 problems.': 2.393517618633318, 'I am happy when I am with a cheerful group and sad when the others are glum.': 2.611317267189466, 'I can easily tell if someone else wants to enter a conversation.': 2.3876973207613124, 'I can pick up quickly if someone says one thing but means another.': 2.549141683672567, 'I find it easy to put myself in somebody elses shoes.': 2.45037916387075, 'I am quick to spot when someone in a group is feeling awkward or uncomfortable.': 2.002365994573103, 'Other people tell me I am good at understanding how they are feeling and what they are thinking.': 0.055254731177592435, 'I can easily tell if someone else is interested or bored with what I am saying.': 2.8353130460922102, 'Friends talk to me about their problems as they say that I am very understanding.': 2.282984482422638, 'I can tell if someone is masking their true emotion.': 2.7197610914823156, 'I am good at predicting what someone will do.': -0.3301829587409613, 'Before I do something I try to consider how my friends will react to it.': 1.8716630894564303, 'I try to be patient when people speak with me very slowly.': 2.228310482069518}\n",
            "Number of Iterations: 47\n"
          ]
        }
      ],
      "source": [
        "#model selection and initialization \n",
        "from sklearn.metrics import mean_absolute_error, mean_squared_error,explained_variance_score\n",
        "from sklearn.linear_model import SGDRegressor\n",
        "sgd = SGDRegressor(max_iter=20000,\n",
        "                     tol=1e-3,\n",
        "                     learning_rate='invscaling',\n",
        "                     n_iter_no_change=6,\n",
        "                     random_state=32)\n",
        "#fitting the model to the training data\n",
        "sgd.fit(X_train,y_train)\n",
        "#predicting the empathy scores on the test set\n",
        "y_pred = np.rint(sgd.predict(X_test))\n",
        "#evaluating the model \n",
        "print('MAE: ', mean_absolute_error(y_test, y_pred))\n",
        "print('RMSE: ',mean_squared_error(y_test, y_pred, squared= False))\n",
        "print('Explained Variance Score:',explained_variance_score(y_test, y_pred))\n",
        "\n",
        "# trained for before stopping\n",
        "coef = dict(zip(X_train.columns, sgd.coef_.T))\n",
        "print('Feature Coefficients:',coef)\n",
        "print('Number of Iterations:',sgd.n_iter_)"
      ]
    },
    {
      "cell_type": "code",
      "source": [
        "#visualizing the model's prediction accuracy \n",
        "#creating a scatterplot of the values\n",
        "plt.scatter(y_test,y_pred,cmap = 'viridis')\n",
        "#drawing a line of best fit\n",
        "plt.plot (np.unique (y_test), np.poly1d (np.polyfit (y_test,y_pred, 1))(np.unique (y_test)), color = 'green') \n",
        "#adding titles and labels \n",
        "plt.title('SGDRegressor Accuracy')\n",
        "plt.xlabel('Original Empathy Scores')\n",
        "plt.ylabel('Predicted Empathy Scores')\n",
        "plt.show() "
      ],
      "metadata": {
        "colab": {
          "base_uri": "https://localhost:8080/",
          "height": 480
        },
        "id": "euVyharkswbq",
        "outputId": "8b91a2d3-66cf-472d-8488-b674d14e4536"
      },
      "id": "euVyharkswbq",
      "execution_count": null,
      "outputs": [
        {
          "output_type": "display_data",
          "data": {
            "text/plain": [
              "<Figure size 640x480 with 1 Axes>"
            ],
            "image/png": "[encoded data removed]"
          },
          "metadata": {}
        }
      ]
    }
  ],
  "metadata": {
    "kernelspec": {
      "display_name": "Python 3 (ipykernel)",
      "language": "python",
      "name": "python3"
    },
    "language_info": {
      "codemirror_mode": {
        "name": "ipython",
        "version": 3
      },
      "file_extension": ".py",
      "mimetype": "text/x-python",
      "name": "python",
      "nbconvert_exporter": "python",
      "pygments_lexer": "ipython3",
      "version": "3.9.13"
    },
    "colab": {
      "provenance": []
    }
  },
  "nbformat": 4,
  "nbformat_minor": 5
}